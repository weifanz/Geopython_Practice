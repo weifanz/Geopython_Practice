{
 "cells": [
  {
   "cell_type": "markdown",
   "metadata": {
    "deletable": false,
    "editable": false
   },
   "source": [
    "## Problem 1: Geocode shopping centers (5 points)\n",
    "\n",
    "The overall aim of problems 1-3 is to find out **how many people live within a walking distance (1.5 km) from certain shopping centres in Helsinki**.\n",
    "\n",
    "Problem 1 concerns the locations of shopping centres: find their addresses and translate them into coordinates.\n",
    "\n",
    "---"
   ]
  },
  {
   "cell_type": "markdown",
   "metadata": {
    "deletable": false,
    "editable": false,
    "tags": []
   },
   "source": [
    "### a) Prepare an input file containing the addresses of shopping centres (1 point)\n",
    "\n",
    "Find out the addresses of the following shopping centres (e.g., by using your favourite search engine), and collect them in a text file called `shopping_centres.txt`:\n",
    "\n",
    " - Itis\n",
    " - Forum\n",
    " - Iso-omena\n",
    " - Sello\n",
    " - Jumbo\n",
    " - REDI\n",
    " - Tripla \n",
    " \n",
    "The text file should be in semicolon-separated format (`;`) and include the following columns:\n",
    "\n",
    "- `id` (integer) a unique identifier for each shopping centre (a\n",
    "- `name` (string) of each shopping center\n",
    "- `addr` (string) the address \n",
    "\n",
    "\n",
    "See an example of how to format the text file [in the lesson 3 materials](https://autogis-site.readthedocs.io/en/latest/lessons/lesson-3/geocoding-in-geopandas.html). Remember to *add*, *commit*, and *push* the file to your git repository.\n",
    "\n",
    "---\n"
   ]
  },
  {
   "cell_type": "markdown",
   "metadata": {
    "deletable": false,
    "editable": false
   },
   "source": [
    "### b) Read the list of addresses (1 point)\n",
    "\n",
    "Read the list of addresses you just prepared into a `pandas.DataFrame` called `shopping_centres`"
   ]
  },
  {
   "cell_type": "code",
   "execution_count": 1,
   "metadata": {},
   "outputs": [],
   "source": [
    "import pandas\n",
    "import geopandas\n",
    "import pathlib"
   ]
  },
  {
   "cell_type": "code",
   "execution_count": 2,
   "metadata": {},
   "outputs": [
    {
     "data": {
      "text/html": [
       "<div>\n",
       "<style scoped>\n",
       "    .dataframe tbody tr th:only-of-type {\n",
       "        vertical-align: middle;\n",
       "    }\n",
       "\n",
       "    .dataframe tbody tr th {\n",
       "        vertical-align: top;\n",
       "    }\n",
       "\n",
       "    .dataframe thead th {\n",
       "        text-align: right;\n",
       "    }\n",
       "</style>\n",
       "<table border=\"1\" class=\"dataframe\">\n",
       "  <thead>\n",
       "    <tr style=\"text-align: right;\">\n",
       "      <th></th>\n",
       "      <th>id</th>\n",
       "      <th>name</th>\n",
       "      <th>addr</th>\n",
       "    </tr>\n",
       "  </thead>\n",
       "  <tbody>\n",
       "    <tr>\n",
       "      <th>0</th>\n",
       "      <td>1</td>\n",
       "      <td>Itis</td>\n",
       "      <td>Itäkatu 1-7, 00930 Helsinki, Finland</td>\n",
       "    </tr>\n",
       "    <tr>\n",
       "      <th>1</th>\n",
       "      <td>2</td>\n",
       "      <td>Forum</td>\n",
       "      <td>Mannerheimintie 20, 00100 Helsinki, Finland</td>\n",
       "    </tr>\n",
       "    <tr>\n",
       "      <th>2</th>\n",
       "      <td>3</td>\n",
       "      <td>Iso-omena</td>\n",
       "      <td>Piispansilta 11, 02230 Espoo, Finland</td>\n",
       "    </tr>\n",
       "    <tr>\n",
       "      <th>3</th>\n",
       "      <td>4</td>\n",
       "      <td>Sello</td>\n",
       "      <td>Leppävaarankatu 3-9, 02600 Espoo, Finland</td>\n",
       "    </tr>\n",
       "    <tr>\n",
       "      <th>4</th>\n",
       "      <td>5</td>\n",
       "      <td>Jumbo</td>\n",
       "      <td>Vantaanportinkatu 3, 01510 Vantaa, Finland</td>\n",
       "    </tr>\n",
       "    <tr>\n",
       "      <th>5</th>\n",
       "      <td>6</td>\n",
       "      <td>REDI</td>\n",
       "      <td>Hermannin rantatie 5, 00580 Helsinki, Finland</td>\n",
       "    </tr>\n",
       "    <tr>\n",
       "      <th>6</th>\n",
       "      <td>7</td>\n",
       "      <td>Tripla</td>\n",
       "      <td>Fredikanterassi 1, 00520 Helsinki, Finland</td>\n",
       "    </tr>\n",
       "  </tbody>\n",
       "</table>\n",
       "</div>"
      ],
      "text/plain": [
       "   id       name                                           addr\n",
       "0   1       Itis           Itäkatu 1-7, 00930 Helsinki, Finland\n",
       "1   2      Forum    Mannerheimintie 20, 00100 Helsinki, Finland\n",
       "2   3  Iso-omena          Piispansilta 11, 02230 Espoo, Finland\n",
       "3   4      Sello      Leppävaarankatu 3-9, 02600 Espoo, Finland\n",
       "4   5      Jumbo     Vantaanportinkatu 3, 01510 Vantaa, Finland\n",
       "5   6       REDI  Hermannin rantatie 5, 00580 Helsinki, Finland\n",
       "6   7     Tripla     Fredikanterassi 1, 00520 Helsinki, Finland"
      ]
     },
     "execution_count": 2,
     "metadata": {},
     "output_type": "execute_result"
    }
   ],
   "source": [
    "# ADD YOUR OWN CODE HERE\n",
    "NOTEBOOK_PATH = pathlib.Path().resolve()\n",
    "DATA_DIRECTORY = NOTEBOOK_PATH / \"data\" / \"shopping_centres.txt\"\n",
    "\n",
    "shopping_centres = pandas.read_csv(\n",
    "    DATA_DIRECTORY,\n",
    "    sep=\";\"\n",
    ")\n",
    "\n",
    "shopping_centres"
   ]
  },
  {
   "cell_type": "code",
   "execution_count": 3,
   "metadata": {
    "deletable": false,
    "editable": false
   },
   "outputs": [],
   "source": [
    "# NON-EDITABLE CODE CELL FOR TESTING YOUR SOLUTION\n",
    "import pandas\n",
    "assert isinstance(shopping_centres, pandas.DataFrame)\n",
    "for column in (\"id\", \"name\", \"addr\"):\n",
    "    assert column in shopping_centres.columns"
   ]
  },
  {
   "cell_type": "markdown",
   "metadata": {
    "deletable": false,
    "editable": false
   },
   "source": [
    "\n",
    "---\n",
    "\n",
    "### c) Geocode the addresses (2 points)\n",
    "\n",
    "Geocode the addresses using the Nominatim geocoding service. Join the results with the input data, and store them in a `geopandas.GeoDataFrame` with the same name (`shopping_centres`). \n",
    "\n",
    "Remember to define a custom `user_agent` string!"
   ]
  },
  {
   "cell_type": "code",
   "execution_count": 4,
   "metadata": {},
   "outputs": [
    {
     "data": {
      "text/html": [
       "<div>\n",
       "<style scoped>\n",
       "    .dataframe tbody tr th:only-of-type {\n",
       "        vertical-align: middle;\n",
       "    }\n",
       "\n",
       "    .dataframe tbody tr th {\n",
       "        vertical-align: top;\n",
       "    }\n",
       "\n",
       "    .dataframe thead th {\n",
       "        text-align: right;\n",
       "    }\n",
       "</style>\n",
       "<table border=\"1\" class=\"dataframe\">\n",
       "  <thead>\n",
       "    <tr style=\"text-align: right;\">\n",
       "      <th></th>\n",
       "      <th>geometry</th>\n",
       "      <th>address</th>\n",
       "      <th>id</th>\n",
       "      <th>name</th>\n",
       "      <th>addr</th>\n",
       "    </tr>\n",
       "  </thead>\n",
       "  <tbody>\n",
       "    <tr>\n",
       "      <th>0</th>\n",
       "      <td>POINT (25.08294 60.21170)</td>\n",
       "      <td>Kauppakeskus Itis, 1-7, Itäkatu, Itäkeskus, Va...</td>\n",
       "      <td>1</td>\n",
       "      <td>Itis</td>\n",
       "      <td>Itäkatu 1-7, 00930 Helsinki, Finland</td>\n",
       "    </tr>\n",
       "    <tr>\n",
       "      <th>1</th>\n",
       "      <td>POINT (24.93778 60.16918)</td>\n",
       "      <td>Fazer Café, 20, Mannerheimintie, Keskusta, Klu...</td>\n",
       "      <td>2</td>\n",
       "      <td>Forum</td>\n",
       "      <td>Mannerheimintie 20, 00100 Helsinki, Finland</td>\n",
       "    </tr>\n",
       "    <tr>\n",
       "      <th>2</th>\n",
       "      <td>POINT (24.73986 60.16025)</td>\n",
       "      <td>11, Piispansilta, Matinkylä, Suur-Matinkylä, E...</td>\n",
       "      <td>3</td>\n",
       "      <td>Iso-omena</td>\n",
       "      <td>Piispansilta 11, 02230 Espoo, Finland</td>\n",
       "    </tr>\n",
       "    <tr>\n",
       "      <th>3</th>\n",
       "      <td>POINT (24.81331 60.21817)</td>\n",
       "      <td>Life, 3-9, Leppävaarankatu, Ruusutorppa, Etelä...</td>\n",
       "      <td>4</td>\n",
       "      <td>Sello</td>\n",
       "      <td>Leppävaarankatu 3-9, 02600 Espoo, Finland</td>\n",
       "    </tr>\n",
       "    <tr>\n",
       "      <th>4</th>\n",
       "      <td>POINT (24.96568 60.29159)</td>\n",
       "      <td>Jumbo, 3, Vantaanportinkatu, Vantaanportti, Pa...</td>\n",
       "      <td>5</td>\n",
       "      <td>Jumbo</td>\n",
       "      <td>Vantaanportinkatu 3, 01510 Vantaa, Finland</td>\n",
       "    </tr>\n",
       "  </tbody>\n",
       "</table>\n",
       "</div>"
      ],
      "text/plain": [
       "                    geometry  \\\n",
       "0  POINT (25.08294 60.21170)   \n",
       "1  POINT (24.93778 60.16918)   \n",
       "2  POINT (24.73986 60.16025)   \n",
       "3  POINT (24.81331 60.21817)   \n",
       "4  POINT (24.96568 60.29159)   \n",
       "\n",
       "                                             address  id       name  \\\n",
       "0  Kauppakeskus Itis, 1-7, Itäkatu, Itäkeskus, Va...   1       Itis   \n",
       "1  Fazer Café, 20, Mannerheimintie, Keskusta, Klu...   2      Forum   \n",
       "2  11, Piispansilta, Matinkylä, Suur-Matinkylä, E...   3  Iso-omena   \n",
       "3  Life, 3-9, Leppävaarankatu, Ruusutorppa, Etelä...   4      Sello   \n",
       "4  Jumbo, 3, Vantaanportinkatu, Vantaanportti, Pa...   5      Jumbo   \n",
       "\n",
       "                                          addr  \n",
       "0         Itäkatu 1-7, 00930 Helsinki, Finland  \n",
       "1  Mannerheimintie 20, 00100 Helsinki, Finland  \n",
       "2        Piispansilta 11, 02230 Espoo, Finland  \n",
       "3    Leppävaarankatu 3-9, 02600 Espoo, Finland  \n",
       "4   Vantaanportinkatu 3, 01510 Vantaa, Finland  "
      ]
     },
     "execution_count": 4,
     "metadata": {},
     "output_type": "execute_result"
    }
   ],
   "source": [
    "# ADD YOUR OWN CODE HERE\n",
    "shopping_centres_new = geopandas.tools.geocode(\n",
    "    shopping_centres[\"addr\"],\n",
    "    provider=\"nominatim\",\n",
    "    user_agent=\"autogis2023\",\n",
    "    timeout=10\n",
    ")\n",
    "\n",
    "shopping_centres = shopping_centres_new.join(shopping_centres)\n",
    "shopping_centres.head()"
   ]
  },
  {
   "cell_type": "code",
   "execution_count": 5,
   "metadata": {
    "deletable": false,
    "editable": false
   },
   "outputs": [],
   "source": [
    "# NON-EDITABLE CODE CELL FOR TESTING YOUR SOLUTION\n",
    "import geopandas\n",
    "assert isinstance(shopping_centres, geopandas.GeoDataFrame)\n",
    "for column in (\"id\", \"name\", \"addr\", \"geometry\"):\n",
    "    assert column in shopping_centres.columns"
   ]
  },
  {
   "cell_type": "markdown",
   "metadata": {
    "deletable": false,
    "editable": false
   },
   "source": [
    "Check that the coordinate reference system of the geocoded result is correctly defined, and **reproject the layer into ETRS GK-25** (EPSG:3879):"
   ]
  },
  {
   "cell_type": "code",
   "execution_count": 6,
   "metadata": {},
   "outputs": [
    {
     "name": "stdout",
     "output_type": "stream",
     "text": [
      "Current CRS: EPSG:4326\n",
      "New CRS: EPSG:3879\n"
     ]
    }
   ],
   "source": [
    "# ADD YOUR OWN CODE HERE\n",
    "print(\"Current CRS:\", shopping_centres.crs)\n",
    "\n",
    "if shopping_centres.crs is None:\n",
    "    shopping_centres.set_crs('EPSG:4326', inplace=True)\n",
    "    print(\"CRS was None, set to WGS 84 (EPSG:4326)\")\n",
    "\n",
    "shopping_centres = shopping_centres.to_crs(epsg=3879)\n",
    "print(\"New CRS:\", shopping_centres.crs)"
   ]
  },
  {
   "cell_type": "code",
   "execution_count": 7,
   "metadata": {
    "deletable": false,
    "editable": false
   },
   "outputs": [],
   "source": [
    "# NON-EDITABLE CODE CELL FOR TESTING YOUR SOLUTION\n",
    "import pyproj\n",
    "assert shopping_centres.crs == pyproj.CRS(\"EPSG:3879\")"
   ]
  },
  {
   "cell_type": "markdown",
   "metadata": {
    "deletable": false,
    "editable": false
   },
   "source": [
    "\n",
    "---\n",
    "\n",
    "### d) Save the resulting vector data set (1 point)\n",
    "\n",
    "Save `shopping_centres` as a *GeoPackage* named `shopping_centres.gpkg`:"
   ]
  },
  {
   "cell_type": "code",
   "execution_count": 8,
   "metadata": {},
   "outputs": [],
   "source": [
    "# ADD YOUR OWN CODE HERE\n",
    "DATA_DIRECTORY = NOTEBOOK_PATH / \"data\" \n",
    "shopping_centres.to_file(DATA_DIRECTORY / \"shopping_centres.gpkg\")"
   ]
  },
  {
   "cell_type": "markdown",
   "metadata": {
    "deletable": false,
    "editable": false
   },
   "source": [
    "\n",
    "---\n",
    "\n",
    "Well done! Now you can continue to [problem 2](Exercise-3-Problem-2.ipynb)"
   ]
  }
 ],
 "metadata": {
  "anaconda-cloud": {},
  "kernelspec": {
   "display_name": "Python 3 (ipykernel)",
   "language": "python",
   "name": "python3"
  },
  "language_info": {
   "codemirror_mode": {
    "name": "ipython",
    "version": 3
   },
   "file_extension": ".py",
   "mimetype": "text/x-python",
   "name": "python",
   "nbconvert_exporter": "python",
   "pygments_lexer": "ipython3",
   "version": "3.11.5"
  }
 },
 "nbformat": 4,
 "nbformat_minor": 4
}
