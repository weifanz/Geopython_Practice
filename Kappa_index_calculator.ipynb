{
  "nbformat": 4,
  "nbformat_minor": 0,
  "metadata": {
    "colab": {
      "provenance": [],
      "authorship_tag": "ABX9TyO89Xa5T0/iZ3mc9jC6Zo6K",
      "include_colab_link": true
    },
    "kernelspec": {
      "name": "python3",
      "display_name": "Python 3"
    },
    "language_info": {
      "name": "python"
    }
  },
  "cells": [
    {
      "cell_type": "markdown",
      "metadata": {
        "id": "view-in-github",
        "colab_type": "text"
      },
      "source": [
        "<a href=\"https://colab.research.google.com/github/weifanz/Geopython_Practice/blob/main/Kappa_index_calculator.ipynb\" target=\"_parent\"><img src=\"https://colab.research.google.com/assets/colab-badge.svg\" alt=\"Open In Colab\"/></a>"
      ]
    },
    {
      "cell_type": "markdown",
      "source": [
        "# Kappa Index Calculator\n",
        "\n",
        "*   Author: Weifan Zhou\n",
        "*   Course: ENST 300\n",
        "---\n",
        "\n",
        "###Run this code cell by cell, from front to the end. Don't run from the middle. If you skipped something, to be safe, run again from the first cell."
      ],
      "metadata": {
        "id": "I9vcIBgA0W8O"
      }
    },
    {
      "cell_type": "markdown",
      "source": [
        "First, you need to type your data. The row is the actual data, and the column is the encoded data.\n",
        "\n",
        "A quicker way is to import an excel form, but in that way I need to improve my code. Due to time limitation, I did not do that.\n",
        "\n",
        "You can also try more complidated data, and type a matrix that is more than 5 * 5."
      ],
      "metadata": {
        "id": "XWkZ-o5B8pu0"
      }
    },
    {
      "cell_type": "code",
      "execution_count": null,
      "metadata": {
        "id": "mbvkwEMJo7CK"
      },
      "outputs": [],
      "source": [
        "# Writing your result into matrix form.\n",
        "data = [[74, 0, 0, 0, 0],\n",
        "          [9, 398, 30, 18, 28],\n",
        "          [1, 21, 65, 4, 2],\n",
        "          [2, 22, 5, 300, 16],\n",
        "          [4, 14, 3, 11, 29]]"
      ]
    },
    {
      "cell_type": "markdown",
      "source": [
        "YOU DON'T NEED THIS LINE OF CODE BELOW. It's just for you to understand.\n",
        "\n",
        "**Note that in python, index 0 means the 1st element.**"
      ],
      "metadata": {
        "id": "fcP18weh9Jnu"
      }
    },
    {
      "cell_type": "code",
      "source": [
        "# You can see the element on the 2nd row and 3rd column\n",
        "data[1][2]"
      ],
      "metadata": {
        "colab": {
          "base_uri": "https://localhost:8080/"
        },
        "id": "bEcRdVkkrLU7",
        "outputId": "ce0d8dc2-2a25-4232-df93-34837e0e988a"
      },
      "execution_count": null,
      "outputs": [
        {
          "output_type": "execute_result",
          "data": {
            "text/plain": [
              "30"
            ]
          },
          "metadata": {},
          "execution_count": 108
        }
      ]
    },
    {
      "cell_type": "markdown",
      "source": [
        "### This is the main code.\n",
        "\n"
      ],
      "metadata": {
        "id": "VDgqWWBF-kb8"
      }
    },
    {
      "cell_type": "code",
      "source": [
        "# Main code\n",
        "\n",
        "def calculate_kappa(matrix):\n",
        "  num_row = len(matrix)  # Get how many rows / columns there are.\n",
        "\n",
        "  # Make sure you don't see the error message\n",
        "  # If you see the error, your matrix is not a square and has something wrong.\n",
        "  for row in matrix:\n",
        "    if num_row != len(row):\n",
        "      raise Exception(\"Please make sure your matrix is n * n\")\n",
        "\n",
        "  ###############################################################\n",
        "  # Initialize some variables as zero.\n",
        "\n",
        "  # sum_eii is the sum of all sample points being observed and encoded.\n",
        "  sum_eii = 0\n",
        "\n",
        "  # sum_rol_col_product is the product of ith row and column:\n",
        "  # the encoded * the actual at a certain area\n",
        "  sum_rol_col_product = 0\n",
        "\n",
        "  # n_total is N, the total sample points\n",
        "  n_total = 0\n",
        "\n",
        "  ###############################################################\n",
        "  # Let i be the row and j be the column index. Set a loop.\n",
        "\n",
        "  # The outer loop will start at 0, and ends at the # of rows - 1\n",
        "  for i in range(0, num_row):\n",
        "    sum_row = 0\n",
        "    sum_col = 0\n",
        "\n",
        "    # The inner loop inside the outer loop,\n",
        "    # start at 0 and ends at the # of columns - 1.\n",
        "    # I used num_row because the maximum number of columns\n",
        "    # is the same as the number of rows.\n",
        "    for j in range(0, num_row):\n",
        "      sum_row += matrix[i][j]     #Summing up the encoded data at an area\n",
        "      sum_col += matrix[j][i]     #Summing up the actual data at an area\n",
        "\n",
        "    # For each area, print out the product.\n",
        "    print(f\"sum_product:{sum_row * sum_col}\")\n",
        "\n",
        "    ############################################################\n",
        "    n_total += sum_col   # Calculate N\n",
        "\n",
        "    # Summing up the cases that both fit encoded and actual data\n",
        "    sum_eii += matrix[i][i]\n",
        "\n",
        "    # Sum up all the products\n",
        "    sum_rol_col_product += sum_row * sum_col\n",
        "\n",
        "    ############################################################\n",
        "  numerator = n_total * sum_eii - sum_rol_col_product\n",
        "  denominator = n_total * n_total - sum_rol_col_product\n",
        "  kappa = numerator / denominator\n",
        "\n",
        "  print()\n",
        "  print(f\"The kappa is: {kappa}.\")"
      ],
      "metadata": {
        "id": "QTyYQMxMuAry"
      },
      "execution_count": null,
      "outputs": []
    },
    {
      "cell_type": "markdown",
      "source": [
        "##To run this code:\n",
        "\n",
        "1.  Type your data, give your data a name\n",
        "2.  Type **calculate_kappa(your matrix data name)**\n",
        "3.  Click the play buttons to run all the cells.\n",
        "\n"
      ],
      "metadata": {
        "id": "ILiif9G4IqJM"
      }
    },
    {
      "cell_type": "markdown",
      "source": [
        "Let's use this code for table 3.3 in the textbook."
      ],
      "metadata": {
        "id": "VIrwdnVK_w2j"
      }
    },
    {
      "cell_type": "code",
      "source": [
        "# Add you data\n",
        "data = [[74, 0, 0, 0, 0],\n",
        "        [9, 398, 30, 18, 28],\n",
        "        [1, 21, 65, 4, 2],\n",
        "        [2, 22, 5, 300, 16],\n",
        "        [4, 14, 3, 11, 29]]\n",
        "\n",
        "# Run the code\n",
        "calculate_kappa(data)"
      ],
      "metadata": {
        "colab": {
          "base_uri": "https://localhost:8080/"
        },
        "id": "X_es80yr_wYS",
        "outputId": "7be43c48-0c1f-456c-dd64-e292eaaa4a59"
      },
      "execution_count": null,
      "outputs": [
        {
          "output_type": "stream",
          "name": "stdout",
          "text": [
            "sum_product:6660\n",
            "sum_product:219765\n",
            "sum_product:9579\n",
            "sum_product:114885\n",
            "sum_product:4575\n",
            "\n",
            "The kappa is: 0.7358860139639213.\n"
          ]
        }
      ]
    },
    {
      "cell_type": "markdown",
      "source": [
        "---\n",
        "Let's try a different example."
      ],
      "metadata": {
        "id": "2ofuaCkPILu7"
      }
    },
    {
      "cell_type": "code",
      "source": [
        "matrix = [[6,0,0,0,0,1,0,0,0,0,0,0],\n",
        "          [0,1,5,0,1,0,2,0,0,0,0,0],\n",
        "          [0,0,0,0,0,0,0,0,0,0,0,0],\n",
        "          [0,0,0,2,0,0,0,0,0,0,0,0],\n",
        "          [1,0,0,0,0,2,0,0,0,0,1,0],\n",
        "          [1,0,0,0,0,2,0,0,0,0,0,0],\n",
        "          [0,0,0,0,0,0,1,0,0,0,0,0],\n",
        "          [0,0,0,0,0,0,1,2,0,0,0,0],\n",
        "          [0,0,0,0,0,0,0,0,0,0,0,0],\n",
        "          [0,0,0,0,0,0,0,0,0,0,0,0],\n",
        "          [0,0,0,0,1,0,0,1,0,1,1,0],\n",
        "          [0,0,0,0,0,0,1,0,0,0,0,0]]"
      ],
      "metadata": {
        "id": "IJc9QeTbDGGc"
      },
      "execution_count": null,
      "outputs": []
    },
    {
      "cell_type": "markdown",
      "source": [
        "Run this code below."
      ],
      "metadata": {
        "id": "7zfphlqFIUZt"
      }
    },
    {
      "cell_type": "code",
      "source": [
        "calculate_kappa(matrix)"
      ],
      "metadata": {
        "colab": {
          "base_uri": "https://localhost:8080/"
        },
        "id": "M54DDQdkD_S9",
        "outputId": "2cdfa889-4bc2-4890-a062-1020f1288f9f"
      },
      "execution_count": null,
      "outputs": [
        {
          "output_type": "stream",
          "name": "stdout",
          "text": [
            "sum_product:56\n",
            "sum_product:9\n",
            "sum_product:0\n",
            "sum_product:4\n",
            "sum_product:8\n",
            "sum_product:15\n",
            "sum_product:5\n",
            "sum_product:9\n",
            "sum_product:0\n",
            "sum_product:0\n",
            "sum_product:8\n",
            "sum_product:0\n",
            "\n",
            "The kappa is: 0.3800383877159309.\n"
          ]
        }
      ]
    }
  ]
}