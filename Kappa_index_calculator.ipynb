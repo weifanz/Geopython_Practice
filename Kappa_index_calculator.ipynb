{
  "nbformat": 4,
  "nbformat_minor": 0,
  "metadata": {
    "colab": {
      "provenance": [],
      "authorship_tag": "ABX9TyOPbXs2X8xvPDAiZHeXADJu",
      "include_colab_link": true
    },
    "kernelspec": {
      "name": "python3",
      "display_name": "Python 3"
    },
    "language_info": {
      "name": "python"
    }
  },
  "cells": [
    {
      "cell_type": "markdown",
      "metadata": {
        "id": "view-in-github",
        "colab_type": "text"
      },
      "source": [
        "<a href=\"https://colab.research.google.com/github/weifanz/Geopython_Practice/blob/main/Kappa_index_calculator.ipynb\" target=\"_parent\"><img src=\"https://colab.research.google.com/assets/colab-badge.svg\" alt=\"Open In Colab\"/></a>"
      ]
    },
    {
      "cell_type": "markdown",
      "source": [
        "# Kappa Index Calculator\n",
        "\n",
        "*   Author: Weifan Zhou\n",
        "*   Course: ENST 300"
      ],
      "metadata": {
        "id": "I9vcIBgA0W8O"
      }
    },
    {
      "cell_type": "code",
      "execution_count": 24,
      "metadata": {
        "id": "mbvkwEMJo7CK"
      },
      "outputs": [],
      "source": [
        "matrix = [[74, 0, 0, 0, 0],\n",
        "          [9, 398, 30, 18, 28],\n",
        "          [1, 21, 65, 4, 2],\n",
        "          [2, 22, 5, 300, 16],\n",
        "          [4, 14, 3, 11, 29]]"
      ]
    },
    {
      "cell_type": "code",
      "source": [
        "# You can see the element on the 2nd row and 3rd column\n",
        "# Note that in python, index 0 means the 1st element.\n",
        "matrix[1][2]"
      ],
      "metadata": {
        "colab": {
          "base_uri": "https://localhost:8080/"
        },
        "id": "bEcRdVkkrLU7",
        "outputId": "dcb81d4d-33f7-414e-fc68-521b920b72e9"
      },
      "execution_count": 55,
      "outputs": [
        {
          "output_type": "execute_result",
          "data": {
            "text/plain": [
              "30"
            ]
          },
          "metadata": {},
          "execution_count": 55
        }
      ]
    },
    {
      "cell_type": "code",
      "source": [
        "# Pre-check. You can skip this code, but I don't recommend.\n",
        "\n",
        "# Make sure you don't see the error message\n",
        "# If you see the error, your matrix is not a square and has something wrong.\n",
        "for row in matrix:\n",
        "  if len(matrix) != len(row):\n",
        "    raise Exception(\"Please make sure your matrix is n * n\")"
      ],
      "metadata": {
        "id": "M04mPVOtrSg6"
      },
      "execution_count": 44,
      "outputs": []
    },
    {
      "cell_type": "code",
      "source": [
        "import math\n",
        "\n",
        "# Main code\n",
        "num_row = len(matrix)\n",
        "num_row = len(matrix)\n",
        "sum_eii = 0\n",
        "sum_rol_col_product = 0\n",
        "n_total = 0\n",
        "\n",
        "for i in range(0, num_row):\n",
        "  sum_row = 0\n",
        "  sum_col = 0\n",
        "\n",
        "  for j in range(0, num_row):\n",
        "    sum_row += matrix[i][j]\n",
        "    sum_col += matrix[j][i]\n",
        "\n",
        "  # Calculate N\n",
        "  n_total += sum_col\n",
        "\n",
        "  sum_eii += matrix[i][i]\n",
        "\n",
        "  sum_rol_col_product += sum_row * sum_col\n",
        "\n",
        "numerator = n_total * sum_eii - sum_rol_col_product\n",
        "denominator = n_total * n_total - sum_rol_col_product\n",
        "kappa = numerator / denominator\n",
        "\n",
        "print(kappa)\n",
        "\n",
        "print(f\"The kappa is approximately {round(kappa, 2)}.\")\n",
        "\n",
        "\n"
      ],
      "metadata": {
        "colab": {
          "base_uri": "https://localhost:8080/"
        },
        "id": "QTyYQMxMuAry",
        "outputId": "e08fdef4-9cbf-44d8-fd4a-19f5978ffe7d"
      },
      "execution_count": 54,
      "outputs": [
        {
          "output_type": "stream",
          "name": "stdout",
          "text": [
            "0.7358860139639213\n",
            "The kappa is approximately 0.74.\n"
          ]
        }
      ]
    }
  ]
}